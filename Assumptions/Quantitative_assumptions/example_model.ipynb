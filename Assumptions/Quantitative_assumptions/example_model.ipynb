{
  "cells": [
    {
      "cell_type": "raw",
      "metadata": {},
      "source": [
        "---\n",
        "title: \"Example Model\"\n",
        "author: \"Shazmeen Maroof\"\n",
        "date: now\n",
        "output:\n",
        "    html_document\n",
        "format: \n",
        "    html:\n",
        "        embed-resources: true\n",
        "        theme: cosmo\n",
        "        code-fold: true\n",
        "        code-summary: \"Show code\"\n",
        "        code-overflow: wrap\n",
        "editor: visual\n",
        "---"
      ],
      "id": "f3506ab8"
    },
    {
      "cell_type": "markdown",
      "metadata": {},
      "source": [
        "<div style=\"text-align: justify\"> \n",
        "\n",
        "\n",
        "## Introduction\n",
        "This is a hypothetical model predicting house prices. The aim is to show users of the assumptions package and how it can be applied in their model.\n",
        "\n",
        "\n",
        "## Inputs\n",
        "We are using data on *'House Price Statistics for Small Areas'* as an example. This example dataset is stored in the data folder with the file name: *Housing_data.xlsx*  \n",
        "\n",
        "Below is a screenshot of what the data looks like:  \n",
        "\n",
        "![](D:\\Picture1.png)\n",
        "\n",
        "## Assumptions  \n",
        "The model has three assumptions  \n",
        "\n",
        "1. House price should always be a positive number.\n",
        "2. Current trends in price will continue.\n",
        "3. There is no change in house prices by local authority.  \n",
        "\n",
        "## Assumption recording\n",
        "\n",
        "This section shows how each assumption should be stored in code.  \n",
        "\n",
        "1) House price should always be a positive number.\n"
      ],
      "id": "5eb34241"
    },
    {
      "cell_type": "code",
      "metadata": {},
      "source": [
        "# Assumption: House price should always be a positive number.\n",
        "# Quality: RED\n",
        "# Impact: AMBER\n",
        "# Detailed description: We assume that no house is sold for a negative amount or for no value.\n",
        "\n",
        "\n",
        "import numpy as np\n",
        "import pandas as pd\n",
        "housing_sale_price = pd.read_excel(\"D:\\\\git_demo\\\\Data/Housing_data.xlsx\", sheet_name=\"median_sale_price\")\n",
        "group = housing_sale_price.groupby(['LA_Name', 'Year'])['Detached'].first()\n",
        "\n",
        "# Convert groupby object to DataFrame \n",
        "grouped_df = group.reset_index()\n",
        "print(grouped_df)\n",
        "# Using Series.values.tolist()\n",
        "col_list = grouped_df[\"Detached\"].values.tolist()\n",
        "print(col_list)\n",
        "\n",
        "# function testing the order of list\n",
        "def test(col_list):\n",
        "    return \"Increasing.\" if all(col_list[i] < col_list[i + 1] for i in range(len(col_list) - 1)) else \\\n",
        "        \"Decreasing.\" if all(col_list[i + 1] < col_list[i] for i in range(len(col_list) - 1)) else \\\n",
        "        \"Not a monotonic sequence!\"\n",
        "print(test(col_list))\n",
        "\n",
        "# finding increase/decrese in a column of dataframe by using np.where with groupby\n",
        "housing_sale_price['new'] = housing_sale_price.groupby(['LA_Name'])['Year', 'Detached'].transform(lambda x : \\\n",
        "                      np.where(x.diff()>0,'incresase',\n",
        "                      np.where(x.diff()<0,'decrease','--')))\n",
        "\n",
        "print(housing_sale_price)"
      ],
      "id": "19c93392",
      "execution_count": null,
      "outputs": []
    },
    {
      "cell_type": "markdown",
      "metadata": {},
      "source": [
        "  2) Current trends in price will continue.\n"
      ],
      "id": "53c3a8f0"
    },
    {
      "cell_type": "code",
      "metadata": {},
      "source": [
        "# Assumption: Current trends in price will continue.\n",
        "# Quality: RED\n",
        "# Impact: AMBER\n",
        "# Detailed description: We assume that the median sale price of each dwelling type in a local authority in time 't' should be less than time 't+1'."
      ],
      "id": "b9efcc59",
      "execution_count": null,
      "outputs": []
    },
    {
      "cell_type": "markdown",
      "metadata": {},
      "source": [
        "3) There is no change in house prices by local authority.  \n"
      ],
      "id": "c3d2f606"
    },
    {
      "cell_type": "code",
      "metadata": {},
      "source": [
        "# Assumption: There is no change in house prices by local authority.\n",
        "# Quality: RED\n",
        "# Impact: AMBER\n",
        "# Detailed description: We assume that there is no regional variation in house prices. "
      ],
      "id": "4d9dd088",
      "execution_count": null,
      "outputs": []
    },
    {
      "cell_type": "markdown",
      "metadata": {},
      "source": [
        "## Assumption Documentation \n",
        "\n",
        "After installing the assumptions' package and passing the code *'assumptions'*, an example assumptions' log will be created within the same folder. Open the newly created file on *'assumptions_caveats_log.md'* to see the example output on assumptions' log.\n",
        "\n",
        "The readme file explains the installation steps and the step-by-step process on how to go from this code to the output document on assumptions' log.\n",
        "\n",
        "## Assumption Sign-off  \n",
        "\n",
        "Since the file storing these assumptions i.e., example_code.py gets pushed to Github, there will be a review every time a new assumption is added and tested. As such, sign off is built into the process.\n",
        "\n",
        "## Conclusion  \n",
        "\n",
        "Assumptions’ package will produce a markdown document on assumptions’ log. Once properly setup, its quick and easy to use. The log will show the location of stored assumptions, their quality rating and description. The package will take care of automatically updating the assumptions during the project lifecycle and Github will track the sign-offs of assumptions. \n",
        "\n",
        "## Software requirements  \n",
        "\n",
        "Python, VSCode, Github\n",
        "\n",
        "## Useful links  \n",
        "\n",
        "Link to the package: <https://assumptions.readthedocs.io/en/latest/usage.html>  \n",
        "Github set up guidance: <https://docs.github.com/en/get-started/quickstart/set-up-git>  \n",
        "Link to VSCode installation guide: <https://gitlab-app-l-01/ASAP/coding-getting-started-guide/-/wikis/code-editors>  \n",
        "Link to pip installation: <https://gitlab-app-l-01/ASAP/coding-getting-started-guide/-/wikis/python>  \n",
        "\n",
        "## Places to get help\n",
        "ASAP@ons.gov.uk\n",
        "\n",
        "</div>"
      ],
      "id": "3f5311f2"
    }
  ],
  "metadata": {
    "kernelspec": {
      "name": "python3",
      "language": "python",
      "display_name": "Python 3"
    }
  },
  "nbformat": 4,
  "nbformat_minor": 5
}