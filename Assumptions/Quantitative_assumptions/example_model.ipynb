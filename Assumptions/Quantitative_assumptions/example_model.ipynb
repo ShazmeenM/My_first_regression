{
  "cells": [
    {
      "cell_type": "raw",
      "metadata": {},
      "source": [
        "---\n",
        "title: \"Example Model\"\n",
        "author: \"Shazmeen Maroof\"\n",
        "date: now\n",
        "output:\n",
        "    html_document\n",
        "format: \n",
        "    html:\n",
        "        embed-resources: true\n",
        "        theme: cosmo\n",
        "        code-fold: true\n",
        "        code-summary: \"Show code\"\n",
        "        code-overflow: wrap\n",
        "editor: visual\n",
        "---"
      ],
      "id": "4362b97b"
    },
    {
      "cell_type": "markdown",
      "metadata": {},
      "source": [
        "<div style=\"text-align: justify\"> \n",
        "\n",
        "\n",
        "## Introduction\n",
        "This is a hypothetical model predicting house prices. The aim is to show users of the assumptions package and how it can be applied in their model.\n",
        "\n",
        "\n",
        "## Inputs\n",
        "We are using data on *'House Price Statistics for Small Areas'* as an example. This example dataset is stored in the data folder with the file name: *Housing_data.xlsx*  \n",
        "\n",
        "Below is a screenshot of what the data looks like:  \n",
        "\n",
        "![](D:\\Picture1.png)\n",
        "\n",
        "## Assumptions  \n",
        "The model has three assumptions  \n",
        "\n",
        "1. House price should always be a positive number.\n",
        "2. Current trends in price will continue.\n",
        "3. There is no change in house prices by local authority.  \n",
        "\n",
        "## Assumption recording\n",
        "\n",
        "This section shows how each assumption should be stored in code.  \n",
        "\n",
        "1) House price should always be a positive number.\n"
      ],
      "id": "16df0d41"
    },
    {
      "cell_type": "code",
      "metadata": {},
      "source": [
        "# Assumption: House price should always be a positive number.\n",
        "# Quality: RED\n",
        "# Impact: AMBER\n",
        "# Detailed description: We assume that no house is sold for a negative amount or for no value."
      ],
      "id": "93bf86b2",
      "execution_count": null,
      "outputs": []
    },
    {
      "cell_type": "markdown",
      "metadata": {},
      "source": [
        "  2) Current trends in price will continue.\n"
      ],
      "id": "2d001d5a"
    },
    {
      "cell_type": "code",
      "metadata": {},
      "source": [
        "# Assumption: Current trends in price will continue.\n",
        "# Quality: RED\n",
        "# Impact: AMBER\n",
        "# Detailed description: We assume that the median sale price of each dwelling type in a local authority in time 't' should be less than time 't+1'."
      ],
      "id": "5f23b872",
      "execution_count": null,
      "outputs": []
    },
    {
      "cell_type": "code",
      "metadata": {},
      "source": [
        "import numpy as np\n",
        "import pandas as pd\n",
        "housing_sale_price = pd.read_excel(\"D:\\\\git_demo\\\\Data/Housing_data.xlsx\", sheet_name=\"median_sale_price\")\n",
        "\n",
        "# grouping rows (LA_Name) by columns (Year)\n",
        "group = housing_sale_price.groupby(['LA_Name', 'Year'], as_index=False)[['Detached', 'Semi-detached', 'Terraced', 'Flats']].first()\n",
        "\n",
        "\n",
        "def finding_row_differences():\n",
        "  group = housing_sale_price.groupby(['LA_Name', 'Year'], as_index=False)[['Detached', 'Semi-detached', 'Terraced', 'Flats']].first()\n",
        "  group['Detached_trend'] = group['Detached'].diff()\n",
        "  group.drop(group[group['Year'] < 2001].index, inplace = True)\n",
        "  if [group('Detached_trend') < 0]\n",
        "  return True \n",
        "\n",
        "finding_row_differences()\n",
        "\n",
        "\n",
        "\n",
        "# grouping rows (LA_Name) by columns (Year)\n",
        "group = housing_sale_price.groupby(['LA_Name', 'Year'], as_index=False)[['Detached', 'Semi-detached', 'Terraced', 'Flats']].first()\n",
        "\n",
        "# computing row differences across groups\n",
        "group['Detached_trend'] = group['Detached'].diff()\n",
        "group['Semi-detached_trend'] = group['Semi-detached'].diff()\n",
        "group['Terraced_trend'] = group['Terraced'].diff()\n",
        "group['Flats_trend'] = group['Flats'].diff()\n",
        "\n",
        "# Using drop() to delete rows in which Year < 2001\n",
        "group.drop(group[group['Year'] < 2001].index, inplace = True)\n",
        "\n",
        "# printing location of failures\n",
        "house_price_trend_neg = group[(group['Detached_trend']<0) | (group['Semi-detached_trend']<0) | (group['Terraced_trend']<0) | (group['Flats_trend']<0)]\n",
        "# print(house_price_trend_neg)"
      ],
      "id": "0d91e06e",
      "execution_count": null,
      "outputs": []
    },
    {
      "cell_type": "markdown",
      "metadata": {},
      "source": [
        "3) There is no change in house prices by local authority.  \n"
      ],
      "id": "bfe4c0c0"
    },
    {
      "cell_type": "code",
      "metadata": {},
      "source": [
        "# Assumption: There is regional variation in house prices.\n",
        "# Quality: RED\n",
        "# Impact: AMBER\n",
        "# Detailed description: Median house prices of all dwelling types in London exceeds median house prices for every other region in England and Wales each year. "
      ],
      "id": "fcfec093",
      "execution_count": null,
      "outputs": []
    },
    {
      "cell_type": "code",
      "metadata": {},
      "source": [
        "import numpy as np\n",
        "import pandas as pd\n",
        "housing_sale_price_regions = pd.read_excel(\"D:\\\\git_demo\\\\Data/Housing_data.xlsx\", sheet_name=\"median_sale_price_regions\")\n",
        "\n",
        "def comparing_rows_columns():\n",
        "    for x in housing_sale_price_regions[housing_sale_price_regions['LA_Name'] == 'London']['Detached']:\n",
        "      for y in housing_sale_price_regions[housing_sale_price_regions['LA_Name'] != 'London']['Detached']:\n",
        "          return x > y\n",
        "\n",
        "comparing_rows_columns()"
      ],
      "id": "8ed66dd5",
      "execution_count": null,
      "outputs": []
    },
    {
      "cell_type": "markdown",
      "metadata": {},
      "source": [
        "## Assumption Documentation \n",
        "\n",
        "After installing the assumptions' package and passing the code *'assumptions'*, an example assumptions' log will be created within the same folder. Open the newly created file on *'assumptions_caveats_log.md'* to see the example output on assumptions' log.\n",
        "\n",
        "The readme file explains the installation steps and the step-by-step process on how to go from this code to the output document on assumptions' log.\n",
        "\n",
        "## Assumption Sign-off  \n",
        "\n",
        "Since the file storing these assumptions i.e., example_code.py gets pushed to Github, there will be a review every time a new assumption is added and tested. As such, sign off is built into the process.\n",
        "\n",
        "## Conclusion  \n",
        "\n",
        "Assumptions’ package will produce a markdown document on assumptions’ log. Once properly setup, its quick and easy to use. The log will show the location of stored assumptions, their quality rating and description. The package will take care of automatically updating the assumptions during the project lifecycle and Github will track the sign-offs of assumptions. \n",
        "\n",
        "## Software requirements  \n",
        "\n",
        "Python, VSCode, Github\n",
        "\n",
        "## Useful links  \n",
        "\n",
        "Link to the package: <https://assumptions.readthedocs.io/en/latest/usage.html>  \n",
        "Github set up guidance: <https://docs.github.com/en/get-started/quickstart/set-up-git>  \n",
        "Link to VSCode installation guide: <https://gitlab-app-l-01/ASAP/coding-getting-started-guide/-/wikis/code-editors>  \n",
        "Link to pip installation: <https://gitlab-app-l-01/ASAP/coding-getting-started-guide/-/wikis/python>  \n",
        "\n",
        "## Places to get help\n",
        "ASAP@ons.gov.uk\n",
        "\n",
        "</div>"
      ],
      "id": "72b94d12"
    }
  ],
  "metadata": {
    "kernelspec": {
      "name": "python3",
      "language": "python",
      "display_name": "Python 3"
    }
  },
  "nbformat": 4,
  "nbformat_minor": 5
}